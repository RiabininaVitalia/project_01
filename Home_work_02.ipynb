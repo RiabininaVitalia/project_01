{
  "nbformat": 4,
  "nbformat_minor": 0,
  "metadata": {
    "colab": {
      "provenance": []
    },
    "kernelspec": {
      "name": "python3",
      "display_name": "Python 3"
    },
    "language_info": {
      "name": "python"
    }
  },
  "cells": [
    {
      "cell_type": "markdown",
      "source": [],
      "metadata": {
        "id": "OfagqO50QxfB"
      }
    },
    {
      "cell_type": "code",
      "source": [
        "# Задача 2.1. \n",
        "\n",
        "# Создайте две функции maximum и minimum,\n",
        "# которые получают список целых чисел в качестве входных данных \n",
        "# и возвращают наибольшее и наименьшее число в этом списке соответственно.\n",
        "# Например,\n",
        "# * [4,6,2,1,9,63,-134,566]         -> max = 566, min = -134\n",
        "# * [-52, 56, 30, 29, -54, 0, -110] -> min = -110, max = 56\n",
        "# * [42, 54, 65, 87, 0]             -> min = 0, max = 87\n",
        "# * [5]                             -> min = 5, max = 5\n",
        "# функции sorted, max и min использовать нельзя!\n",
        "from functools import reduce\n",
        "\n",
        "def maximum(arr):\n",
        "     pass\n",
        "\n",
        "def minimum(arr):\n",
        "    pass\n",
        "\n",
        "arr = [4,6,2,1,9,63,-134,566]\n",
        "print('max = ', reduce(max, arr), 'min = ', reduce(min, arr))"
      ],
      "metadata": {
        "colab": {
          "base_uri": "https://localhost:8080/"
        },
        "id": "iXUYmm6divR_",
        "outputId": "74cc0e3e-124a-47c6-b498-d2a355580267"
      },
      "execution_count": 5,
      "outputs": [
        {
          "output_type": "stream",
          "name": "stdout",
          "text": [
            "max =  566 min =  -134\n"
          ]
        }
      ]
    },
    {
      "cell_type": "code",
      "source": [
        "# Задача 2.2. \n",
        "\n",
        "# Напишите функцию, которая возвращает номер квартал по номеру месяца\n",
        "# Например: \n",
        "# месяц 2 (февраль) является частью первого квартала; \n",
        "# месяц 6 (июнь) является частью второго квартала; \n",
        "# месяц 11 (ноябрь) является частью четвертого квартала.\n",
        "\n",
        "def quarter_of(month):\n",
        "    pass\n",
        "\n",
        "month = input('Ведите номер месяца: ')\n",
        "if month == str(1):\n",
        "    print('Месяц 1. Январь. Является частью первого квартала')\n",
        "elif month == str(2): \n",
        "    print('Месяц 2. Февраль. Является частью первого квартала')\n",
        "elif month == str(3): \n",
        "    print('Месяц 3. Март. Является частью первого квартала')\n",
        "elif month == str(4): \n",
        "    print('Месяц 4. Апрель. Является частью второго квартала')    \n",
        "elif month == str(5): \n",
        "    print('Месяц 5. Май. Является частью второго квартала')\n",
        "elif month == str(6): \n",
        "    print('Месяц 6. Июнь. Является частью второго квартала')\n",
        "elif month == str(7): \n",
        "    print('Месяц 7. Июль. Является частью третьего квартала')\n",
        "elif month == str(8): \n",
        "    print('Месяц 8. Август. Является частью третьего квартала')\n",
        "elif month == str(9): \n",
        "    print('Месяц 9. Сентябрь. Является частью третьего квартала')\n",
        "elif month == str(10): \n",
        "    print('Месяц 10. Сентябрь. Является частью четвертого квартала')\n",
        "elif month == str(11): \n",
        "    print('Месяц 11. Ноябрь. Является частью четвертого квартала')\n",
        "elif month == str(12): \n",
        "    print('Месяц 12. Декабрь. Является частью четвертого квартала')\n",
        "else: \n",
        "    print('Такого месяца нет!')"
      ],
      "metadata": {
        "colab": {
          "base_uri": "https://localhost:8080/"
        },
        "id": "BThBvFaQypn1",
        "outputId": "f9b2179f-a4d5-44aa-fe52-ea5e1d678875"
      },
      "execution_count": null,
      "outputs": [
        {
          "output_type": "stream",
          "name": "stdout",
          "text": [
            "Ведите номер месяца: 3\n",
            "Месяц 3. Март. Является частью первого квартала\n"
          ]
        }
      ]
    },
    {
      "cell_type": "code",
      "source": [
        "# Задача 2.3.\n",
        "\n",
        "# Напишите функцию, которая принимает цифры от 0 до 9 и возвращает значение прописью.\n",
        "# Например,\n",
        "# switch_it_up(1) -> 'One'\n",
        "# switch_it_up(3) -> 'Three'\n",
        "# switch_it_up(10000) -> None\n",
        "# Использовать условный оператор if-elif-else нельзя!\n",
        "\n",
        "\n",
        " \n",
        "#def switch_it_up(number):\n",
        "#    pass\n",
        "\n",
        "WORDS  = { \n",
        "           0:'Ноль',\n",
        "           1:'Один', \n",
        "           2:'Два',\n",
        "           3:'Три',\n",
        "           4:'Четыре',\n",
        "           5:'Пять',\n",
        "           6:'Шесть',\n",
        "           7:'Семь',\n",
        "           8:'Восемь',\n",
        "           9:'Девять', \n",
        "         }\n",
        "\n",
        "def switch_it_up(number):\n",
        "    pass\n",
        "number = int(input('Ввидите цифру от 0 до 9: '))\n",
        "print(WORDS.get(number))\n",
        "\n",
        "   "
      ],
      "metadata": {
        "colab": {
          "base_uri": "https://localhost:8080/"
        },
        "id": "00UsHCbz3VSb",
        "outputId": "620ea92f-bc25-4fa9-d926-24b4aede1e9b"
      },
      "execution_count": 8,
      "outputs": [
        {
          "output_type": "stream",
          "name": "stdout",
          "text": [
            "Ввидите цифру от 0 до 9: 7\n",
            "Семь\n"
          ]
        }
      ]
    },
    {
      "cell_type": "code",
      "source": [
        "# Задача 2.4.\n",
        "\n",
        "# Пункт A.\n",
        "# Напишите функцию, которая удаляет все восклицательные знаки из заданной строк.\n",
        "# Например,\n",
        "# foo(\"Hi! Hello!\") -> \"Hi Hello\"\n",
        "# foo(\"\") -> \"\"\n",
        "# foo(\"Oh, no!!!\") -> \"Oh, no\"\n",
        "\n",
        "def remove_exclamation_marks(s):\n",
        "    pass\n",
        "\n",
        "s = str(input('Ввидите фразу: '))\n",
        "s1 = s.replace(\"!\", \"\")\n",
        "print (s1)\n",
        "\n"
      ],
      "metadata": {
        "colab": {
          "base_uri": "https://localhost:8080/"
        },
        "id": "4nIAGOOqA4O7",
        "outputId": "16a5b40d-d1b0-41ab-ab8b-5db2b74403ea"
      },
      "execution_count": 9,
      "outputs": [
        {
          "output_type": "stream",
          "name": "stdout",
          "text": [
            "Ввидите фразу: Hi! Hello!\n",
            "Hi Hello\n"
          ]
        }
      ]
    },
    {
      "cell_type": "code",
      "source": [
        "# Задача 2.4.\n",
        "\n",
        "# Пункт B.\n",
        "# Удалите восклицательный знак из конца строки. \n",
        "# remove(\"Hi!\") == \"Hi\"\n",
        "# remove(\"Hi!!!\") == \"Hi!!\"\n",
        "# remove(\"!Hi\") == \"!Hi\"\n",
        "\n",
        "def remove_last_em(s):\n",
        "    pass\n",
        "s = input('Ввидите фразу: ')\n",
        "print(s.removesuffix('!'))\n"
      ],
      "metadata": {
        "colab": {
          "base_uri": "https://localhost:8080/"
        },
        "id": "szjmCtx8G58g",
        "outputId": "7bbedc05-1d63-4ee8-ff9f-8ba2502d69c5"
      },
      "execution_count": 16,
      "outputs": [
        {
          "output_type": "stream",
          "name": "stdout",
          "text": [
            "Ввидите фразу: !Hi\n",
            "!Hi\n"
          ]
        }
      ]
    },
    {
      "cell_type": "code",
      "source": [
        "# Задача 2.4.\n",
        "\n",
        "# Пункт С.\n",
        "# Удалите слова из предложения, если они содержат ровно один восклицательный знак.\n",
        "# Слова разделены одним пробелом.\n",
        "# Например,\n",
        "# remove(\"Hi!\") === \"\"\n",
        "# remove(\"Hi! Hi!\") === \"\"\n",
        "# remove(\"Hi! Hi! Hi!\") === \"\"\n",
        "# remove(\"Hi Hi! Hi!\") === \"Hi\"\n",
        "# remove(\"Hi! !Hi Hi!\") === \"\"\n",
        "# remove(\"Hi! Hi!! Hi!\") === \"Hi!!\"\n",
        "# remove(\"Hi! !Hi! Hi!\") === \"!Hi!\"\n",
        "\n",
        "def remove_word_with_one_em(s):\n",
        "    pass\n",
        "\n",
        "s = input('Ввидите фразу: ')\n",
        "x = s.split(' ')\n",
        "n = 0\n",
        "j = ''\n",
        "for i in x:\n",
        "    y = i.count('!')\n",
        "    n = n+1\n",
        "\n",
        "    if y != 1:\n",
        "        j = j + i + ' '\n",
        "print(j)"
      ],
      "metadata": {
        "id": "Yq0ih3jndE14",
        "colab": {
          "base_uri": "https://localhost:8080/"
        },
        "outputId": "b9a23f57-bd57-4512-c914-32774b921f1c"
      },
      "execution_count": 24,
      "outputs": [
        {
          "output_type": "stream",
          "name": "stdout",
          "text": [
            "Ввидите фразу: Hi! !Hi! Hi!\n",
            "!Hi! \n"
          ]
        }
      ]
    }
  ]
}