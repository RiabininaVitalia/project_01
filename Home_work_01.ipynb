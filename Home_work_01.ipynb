{
  "nbformat": 4,
  "nbformat_minor": 0,
  "metadata": {
    "colab": {
      "provenance": []
    },
    "kernelspec": {
      "name": "python3",
      "display_name": "Python 3"
    },
    "language_info": {
      "name": "python"
    }
  },
  "cells": [
    {
      "cell_type": "code",
      "execution_count": 3,
      "metadata": {
        "colab": {
          "base_uri": "https://localhost:8080/"
        },
        "id": "MADNPQf7IuBE",
        "outputId": "6d859b68-9f5f-41fb-8ca3-2e33914fb86c"
      },
      "outputs": [
        {
          "output_type": "stream",
          "name": "stdout",
          "text": [
            "Waste a Moment New Salvation Staying' Alive Start Me Up\n"
          ]
        }
      ],
      "source": [
        "#Задача 1.1\n",
        "# Выведите на консоль с помощью индексации строки, последовательно: первый трек, последний, второй, второй с конца\n",
        "# Нельзя переопределять my_favorite_songs и запятая не должна выводиться.\n",
        "\n",
        "my_favorite_songs = 'Waste a Moment, Staying\\' Alive, A Sorta Fairytale, Start Me Up, New Salvation'\n",
        "\n",
        "#Вывести последовательно без запятых\n",
        "print (my_favorite_songs[:14], my_favorite_songs[64:], my_favorite_songs[16:30], my_favorite_songs[-26:-15])\n"
      ]
    },
    {
      "cell_type": "code",
      "source": [
        "#Задача 1.2\n",
        "\n",
        "# Пункт A. \n",
        "# Приведем плейлист песен в виде списка списков\n",
        "# Список my_favorite_songs содержит список названий и длительности каждого трека\n",
        "# Выведите общее время звучания трех случайных песен в формате\n",
        "# Три песни звучат ХХХ минут\n",
        "\n",
        "\n",
        "\n",
        "my_favorite_songs = [\n",
        "    ['Waste a Moment', 3.03],\n",
        "    ['New Salvation', 4.02],\n",
        "    ['Staying\\' Alive', 3.40],\n",
        "    ['Out of Touch', 3.03],\n",
        "    ['A Sorta Fairytale', 5.28],\n",
        "    ['Easy', 4.15],\n",
        "    ['Beautiful Day', 4.04],\n",
        "    ['Nowhere to Run', 2.58],\n",
        "    ['In This World', 4.02],\n",
        "]\n",
        "\n",
        "import random\n",
        "y1 = random.choice (my_favorite_songs)\n",
        "y2 = random.choice (my_favorite_songs)\n",
        "y3 = random.choice (my_favorite_songs)\n",
        "print ('Из списка случайным образом выбраны три трека:')\n",
        "print ('Первый трек:', y1)\n",
        "print ('Второй трек:', y2)\n",
        "print ('Третий трек:', y3)\n",
        "\n",
        "# Выведите общее время звучания трех случайных песен в формате\n",
        "my_list = [y1, y2, y3]\n",
        "\n",
        "sum = 0\n",
        "a = []\n",
        "for i in my_list:\n",
        " a.append (i[1])\n",
        " sum = sum +i[1]\n",
        "\n",
        "\n",
        "print ('Три песни звучат', sum , 'минут')\n"
      ],
      "metadata": {
        "colab": {
          "base_uri": "https://localhost:8080/"
        },
        "id": "bNM_SRdmRUTV",
        "outputId": "bd710d22-f705-4af2-8489-6a9d625bf1cc"
      },
      "execution_count": 10,
      "outputs": [
        {
          "output_type": "stream",
          "name": "stdout",
          "text": [
            "Из списка случайным образом выбраны три трека:\n",
            "Первый трек: ['In This World', 4.02]\n",
            "Второй трек: ['Nowhere to Run', 2.58]\n",
            "Третий трек: ['Beautiful Day', 4.04]\n",
            "Три песни звучат 10.64 минут\n"
          ]
        }
      ]
    },
    {
      "cell_type": "code",
      "source": [
        "# Пункт B. \n",
        "# Есть словарь песен \n",
        "# Распечатайте общее время звучания трех случайных песен\n",
        "# Вывод: Три песни звучат ХХХ минут.\n",
        "\n",
        "import random\n",
        "\n",
        "my_favorite_songs_dict = {\n",
        "    'Waste a Moment': 3.03,\n",
        "    'New Salvation': 4.02,\n",
        "    'Staying\\' Alive': 3.40,\n",
        "    'Out of Touch': 3.03,\n",
        "    'A Sorta Fairytale': 5.28,\n",
        "    'Easy': 4.15,\n",
        "    'Beautiful Day': 4.04,\n",
        "    'Nowhere to Run': 2.58,\n",
        "    'In This World': 4.02,\n",
        "}\n",
        "\n",
        "random_values = random.sample(list(my_favorite_songs_dict.values()), 3)\n",
        "print(random_values)\n",
        "total_time_dict = sum([s for s in random_values])\n",
        "print(f\"Три песни звучат {total_time_dict} минут\")\n",
        "\n",
        "\n",
        "# Дополнительно для пунктов A и B\n",
        "# Пункт C.\n",
        "# Сгенерируйте случайные песни с помощью модуля random\n",
        "# import random\n",
        "\n",
        "# Дополнительно \n",
        "# Пункт D.\n",
        "# Переведите минуты и секунды в формат времени. Используйте модуль datetime \n"
      ],
      "metadata": {
        "id": "OSsx7_8vSA3-",
        "colab": {
          "base_uri": "https://localhost:8080/",
          "height": 252
        },
        "outputId": "bbce3c95-b662-4ae9-bb8c-00ddfe297bc8"
      },
      "execution_count": 90,
      "outputs": [
        {
          "output_type": "stream",
          "name": "stdout",
          "text": [
            "[4.04, 3.03, 3.03]\n"
          ]
        },
        {
          "output_type": "error",
          "ename": "TypeError",
          "evalue": "ignored",
          "traceback": [
            "\u001b[0;31m---------------------------------------------------------------------------\u001b[0m",
            "\u001b[0;31mTypeError\u001b[0m                                 Traceback (most recent call last)",
            "\u001b[0;32m<ipython-input-90-200a1f1c7335>\u001b[0m in \u001b[0;36m<cell line: 22>\u001b[0;34m()\u001b[0m\n\u001b[1;32m     20\u001b[0m \u001b[0mrandom_values\u001b[0m \u001b[0;34m=\u001b[0m \u001b[0mrandom\u001b[0m\u001b[0;34m.\u001b[0m\u001b[0msample\u001b[0m\u001b[0;34m(\u001b[0m\u001b[0mlist\u001b[0m\u001b[0;34m(\u001b[0m\u001b[0mmy_favorite_songs_dict\u001b[0m\u001b[0;34m.\u001b[0m\u001b[0mvalues\u001b[0m\u001b[0;34m(\u001b[0m\u001b[0;34m)\u001b[0m\u001b[0;34m)\u001b[0m\u001b[0;34m,\u001b[0m \u001b[0;36m3\u001b[0m\u001b[0;34m)\u001b[0m\u001b[0;34m\u001b[0m\u001b[0;34m\u001b[0m\u001b[0m\n\u001b[1;32m     21\u001b[0m \u001b[0mprint\u001b[0m\u001b[0;34m(\u001b[0m\u001b[0mrandom_values\u001b[0m\u001b[0;34m)\u001b[0m\u001b[0;34m\u001b[0m\u001b[0;34m\u001b[0m\u001b[0m\n\u001b[0;32m---> 22\u001b[0;31m \u001b[0mtotal_time_dict\u001b[0m \u001b[0;34m=\u001b[0m \u001b[0msum\u001b[0m\u001b[0;34m(\u001b[0m\u001b[0;34m[\u001b[0m\u001b[0ms\u001b[0m \u001b[0;32mfor\u001b[0m \u001b[0ms\u001b[0m \u001b[0;32min\u001b[0m \u001b[0mrandom_values\u001b[0m\u001b[0;34m]\u001b[0m\u001b[0;34m)\u001b[0m\u001b[0;34m\u001b[0m\u001b[0;34m\u001b[0m\u001b[0m\n\u001b[0m\u001b[1;32m     23\u001b[0m \u001b[0mprint\u001b[0m\u001b[0;34m(\u001b[0m\u001b[0;34mf\"Три песни звучат {total_time_dict} минут\"\u001b[0m\u001b[0;34m)\u001b[0m\u001b[0;34m\u001b[0m\u001b[0;34m\u001b[0m\u001b[0m\n\u001b[1;32m     24\u001b[0m \u001b[0;34m\u001b[0m\u001b[0m\n",
            "\u001b[0;31mTypeError\u001b[0m: 'int' object is not callable"
          ]
        }
      ]
    },
    {
      "cell_type": "code",
      "source": [
        "# Задача 1.3.\n",
        "\n",
        "# Напишите скрипт, который принимает от пользователя номер месяца, \n",
        "# а возвращает количество дней в нем.\n",
        "# Результат проверки вывести на консоль\n",
        "# Допущение: в феврале 28 дней\n",
        "# Если номер месяца некорректен - сообщить об этом\n",
        "\n",
        "x = input('Ведите номер месяца: ')\n",
        "if x == str(1):\n",
        "    print('Вы ввели Январь. Количество дней - 31')\n",
        "elif x == str(2): \n",
        "    print('Вы ввели Февраль. Количество дней - 28')\n",
        "elif x == str(3): \n",
        "    print('Вы ввели Март. Количество дней - 31')\n",
        "elif x == str(4): \n",
        "    print('Вы ввели Апрель. Количество дней - 30')\n",
        "elif x == str(5): \n",
        "    print('Вы ввели Май. Количество дней - 31')\n",
        "elif x == str(6): \n",
        "    print('Вы ввели Июнь. Количество дней - 30')\n",
        "elif x == str(7): \n",
        "    print('Вы ввели Июль. Количество дней - 31')\n",
        "elif x == str(8): \n",
        "    print('Вы ввели Август. Количество дней - 31')\n",
        "elif x == str(9): \n",
        "    print('Вы ввели Сентябрь. Количество дней - 30')\n",
        "elif x == str(10): \n",
        "    print('Вы ввели Октябрь. Количество дней - 31')\n",
        "elif x == str(11): \n",
        "    print('Вы ввели Ноябрь. Количество дней - 30')\n",
        "elif x == str(12): \n",
        "    print('Вы ввели Декабрь. Количество дней - 31')\n",
        "else: \n",
        "    print('Такого месяца нет!')\n",
        "\n",
        "# Например,\n",
        "    # Введите номер месяца: 3\n",
        "    # Вы ввели март. 31 дней\n",
        "\n",
        "    # Введите номер месяца: 2\n",
        "    # Вы ввели февраль. 28 дней\n",
        "\n",
        "    # Введите номер месяца: 15\n",
        "    # Такого месяца нет!"
      ],
      "metadata": {
        "colab": {
          "base_uri": "https://localhost:8080/"
        },
        "id": "8x67Q19tW9E7",
        "outputId": "1a9701aa-443d-4050-bb95-6a458f0be295"
      },
      "execution_count": 38,
      "outputs": [
        {
          "output_type": "stream",
          "name": "stdout",
          "text": [
            "Ведите номер месяца: 15\n",
            "Такого месяца нет!\n"
          ]
        }
      ]
    },
    {
      "cell_type": "code",
      "source": [
        "# Задача 1.4.\n",
        "\n",
        "# Есть словарь кодов товаров titles\n",
        "\n",
        "titles = {\n",
        "    'Кроссовки тип 3 (Adidas)': '100000110',\n",
        "    'Мячик тип 2 (Adidas)': '100000146',\n",
        "    'Кепка тип 1 (Adidas)': '100000149',\n",
        "    'Ремень тип 2 (Nike)': '100000194',\n",
        "    'Футболка тип 1 (Adidas)': '100000224',\n",
        "    'Шапка тип 5 (Puma)': '100000280',\n",
        "}\n",
        "\n",
        "# Товары находятся на складе и сохранены в виде словаря списков словарей,\n",
        "# которые отражают количество товаров в магазине по каждому коду.\n",
        "\n",
        "store = {\n",
        "    '100000110': [{'quantity': 31, 'price': 1637}],\n",
        "    '100000146': [ {'quantity': 4, 'price': 45}, {'quantity': 10, 'price': 48}],\n",
        "    '100000149': [ {'quantity': 28, 'price': 279}, {'quantity': 32, 'price': 291}],\n",
        "    '100000194': [{'quantity': 8, 'price': 220}, {'quantity': 1, 'price': 170}],\n",
        "    '100000224': [{'quantity': 61, 'price': 438}, {'quantity': 23, 'price': 302},  {'quantity': 50, 'price': 412}],\n",
        "    '100000280': [{'quantity': 26, 'price': 175}, ]\n",
        "}\n",
        "\n",
        "\n",
        "\n",
        "for title, code in titles.items():\n",
        "    total_quantity = 0\n",
        "    total_cost = 0\n",
        "    for goods in store[code]:\n",
        "        total_quantity += goods['quantity']\n",
        "        total_cost += goods[\"quantity\"] * goods[\"price\"]\n",
        "    print(title, \" - \",total_quantity,\" шт, \", \"стоимость\", total_cost,\" руб\")\n",
        "\n",
        "\n",
        "# Вывести суммарную стоимость каждого товара в магазине в формате:\n",
        "# \"<товар> - <кол-во> шт, стоимость <общая стоимость> руб\"\n",
        "\n",
        "# Пример: \"Кроссовки тип 3 (Adidas) - 31 шт, стоимость 50747 руб\""
      ],
      "metadata": {
        "colab": {
          "base_uri": "https://localhost:8080/"
        },
        "id": "fjaJnvrISn10",
        "outputId": "add13660-500d-4c28-c5d8-78feae1d3c72"
      },
      "execution_count": 39,
      "outputs": [
        {
          "output_type": "stream",
          "name": "stdout",
          "text": [
            "Кроссовки тип 3 (Adidas)  -  31  шт,  стоимость 50747  руб\n",
            "Мячик тип 2 (Adidas)  -  14  шт,  стоимость 660  руб\n",
            "Кепка тип 1 (Adidas)  -  60  шт,  стоимость 17124  руб\n",
            "Ремень тип 2 (Nike)  -  9  шт,  стоимость 1930  руб\n",
            "Футболка тип 1 (Adidas)  -  134  шт,  стоимость 54264  руб\n",
            "Шапка тип 5 (Puma)  -  26  шт,  стоимость 4550  руб\n"
          ]
        }
      ]
    },
    {
      "cell_type": "markdown",
      "source": [],
      "metadata": {
        "id": "OfagqO50QxfB"
      }
    }
  ]
}