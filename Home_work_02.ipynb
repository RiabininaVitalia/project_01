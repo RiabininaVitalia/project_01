{
  "nbformat": 4,
  "nbformat_minor": 0,
  "metadata": {
    "colab": {
      "provenance": []
    },
    "kernelspec": {
      "name": "python3",
      "display_name": "Python 3"
    },
    "language_info": {
      "name": "python"
    }
  },
  "cells": [
    {
      "cell_type": "markdown",
      "source": [],
      "metadata": {
        "id": "OfagqO50QxfB"
      }
    },
    {
      "cell_type": "code",
      "source": [
        "# Задача 2.1. \n",
        "\n",
        "# Создайте две функции maximum и minimum,\n",
        "# которые получают список целых чисел в качестве входных данных \n",
        "# и возвращают наибольшее и наименьшее число в этом списке соответственно.\n",
        "# Например,\n",
        "# * [4,6,2,1,9,63,-134,566]         -> max = 566, min = -134\n",
        "# * [-52, 56, 30, 29, -54, 0, -110] -> min = -110, max = 56\n",
        "# * [42, 54, 65, 87, 0]             -> min = 0, max = 87\n",
        "# * [5]                             -> min = 5, max = 5\n",
        "# функции sorted, max и min использовать нельзя!\n",
        "from functools import reduce\n",
        "\n",
        "def maximum(arr):\n",
        "  return reduce(max, arr)\n",
        "\n",
        "def minimum(arr):\n",
        "  return reduce(min, arr)\n",
        "\n",
        "def create_arr():\n",
        "  arr = []\n",
        "  elem = int(input(\"Сколько значений будет в списке:\"))\n",
        "  for i in range(0, elem):\n",
        "      arr.append(int(input(\"Введите значение:\")))\n",
        "  return arr \n",
        "  \n",
        "arr = create_arr()\n",
        "print('max = ', maximum(arr), 'min = ', minimum(arr))"
      ],
      "metadata": {
        "colab": {
          "base_uri": "https://localhost:8080/"
        },
        "id": "iXUYmm6divR_",
        "outputId": "9ffd3632-0267-4fbc-e4e0-3e6dc1748420"
      },
      "execution_count": 63,
      "outputs": [
        {
          "output_type": "stream",
          "name": "stdout",
          "text": [
            "Сколько значений будет в списке:1\n",
            "Введите значение:5\n",
            "max =  5 min =  5\n"
          ]
        }
      ]
    },
    {
      "cell_type": "code",
      "source": [
        "# Задача 2.2. \n",
        "\n",
        "# Напишите функцию, которая возвращает номер квартал по номеру месяца\n",
        "# Например: \n",
        "# месяц 2 (февраль) является частью первого квартала; \n",
        "# месяц 6 (июнь) является частью второго квартала; \n",
        "# месяц 11 (ноябрь) является частью четвертого квартала.\n",
        "\n",
        "\n",
        "def quarter_of(month):\n",
        "  if month == str(1):\n",
        "    print('Месяц 1. Январь. Является частью первого квартала')\n",
        "  elif month == str(2): \n",
        "    print('Месяц 2. Февраль. Является частью первого квартала')\n",
        "  elif month == str(3): \n",
        "    print('Месяц 3. Март. Является частью первого квартала')\n",
        "  elif month == str(4): \n",
        "    print('Месяц 4. Апрель. Является частью второго квартала')    \n",
        "  elif month == str(5): \n",
        "    print('Месяц 5. Май. Является частью второго квартала')\n",
        "  elif month == str(6): \n",
        "    print('Месяц 6. Июнь. Является частью второго квартала')\n",
        "  elif month == str(7): \n",
        "    print('Месяц 7. Июль. Является частью третьего квартала')\n",
        "  elif month == str(8): \n",
        "    print('Месяц 8. Август. Является частью третьего квартала')\n",
        "  elif month == str(9): \n",
        "    print('Месяц 9. Сентябрь. Является частью третьего квартала')\n",
        "  elif month == str(10): \n",
        "    print('Месяц 10. Сентябрь. Является частью четвертого квартала')\n",
        "  elif month == str(11): \n",
        "    print('Месяц 11. Ноябрь. Является частью четвертого квартала')\n",
        "  elif month == str(12): \n",
        "    print('Месяц 12. Декабрь. Является частью четвертого квартала')\n",
        "  else: \n",
        "    print('Такого месяца нет!')\n",
        "  pass\n",
        "\n",
        "month = input('Ведите номер месяца: ')\n",
        "quarter_of(month)"
      ],
      "metadata": {
        "colab": {
          "base_uri": "https://localhost:8080/"
        },
        "id": "BThBvFaQypn1",
        "outputId": "40bd1cf0-7753-43d1-a59a-e98acc07eb37"
      },
      "execution_count": 66,
      "outputs": [
        {
          "output_type": "stream",
          "name": "stdout",
          "text": [
            "Ведите номер месяца: 11\n",
            "Месяц 11. Ноябрь. Является частью четвертого квартала\n"
          ]
        }
      ]
    },
    {
      "cell_type": "code",
      "source": [
        "# Задача 2.3.\n",
        "\n",
        "# Напишите функцию, которая принимает цифры от 0 до 9 и возвращает значение прописью.\n",
        "# Например,\n",
        "# switch_it_up(1) -> 'One'\n",
        "# switch_it_up(3) -> 'Three'\n",
        "# switch_it_up(10000) -> None\n",
        "# Использовать условный оператор if-elif-else нельзя!\n",
        "\n",
        "\n",
        " \n",
        "#def switch_it_up(number):\n",
        "#    pass\n",
        "\n",
        "def switch_it_up(number):\n",
        "  WORDS  = { \n",
        "           0:'Ноль',\n",
        "           1:'Один', \n",
        "           2:'Два',\n",
        "           3:'Три',\n",
        "           4:'Четыре',\n",
        "           5:'Пять',\n",
        "           6:'Шесть',\n",
        "           7:'Семь',\n",
        "           8:'Восемь',\n",
        "           9:'Девять', \n",
        "         }\n",
        "  if number > 9 or number < 0:\n",
        "    return 'Вы ввели неверное значение'\n",
        "  else:\n",
        "    return WORDS.get(number)\n",
        "\n",
        "number = int(input('Ввидите цифру от 0 до 9: '))\n",
        "switch_it_up(number)\n",
        "\n",
        "   "
      ],
      "metadata": {
        "colab": {
          "base_uri": "https://localhost:8080/",
          "height": 53
        },
        "id": "00UsHCbz3VSb",
        "outputId": "12b20fc5-80e0-41c2-82b3-ad948c32d84d"
      },
      "execution_count": 69,
      "outputs": [
        {
          "name": "stdout",
          "output_type": "stream",
          "text": [
            "Ввидите цифру от 0 до 9: 1000\n"
          ]
        },
        {
          "output_type": "execute_result",
          "data": {
            "text/plain": [
              "'Вы ввели неверное значение'"
            ],
            "application/vnd.google.colaboratory.intrinsic+json": {
              "type": "string"
            }
          },
          "metadata": {},
          "execution_count": 69
        }
      ]
    },
    {
      "cell_type": "code",
      "source": [
        "# Задача 2.4.\n",
        "\n",
        "# Пункт A.\n",
        "# Напишите функцию, которая удаляет все восклицательные знаки из заданной строк.\n",
        "# Например,\n",
        "# foo(\"Hi! Hello!\") -> \"Hi Hello\"\n",
        "# foo(\"\") -> \"\"\n",
        "# foo(\"Oh, no!!!\") -> \"Oh, no\"\n",
        "\n",
        "def remove_exclamation_marks(phrase):\n",
        "  return phrase.replace(\"!\", \"\")\n",
        "\n",
        "phrase = str(input('Ввидите фразу: '))\n",
        "remove_exclamation_marks(phrase)\n",
        "\n",
        "\n"
      ],
      "metadata": {
        "colab": {
          "base_uri": "https://localhost:8080/",
          "height": 53
        },
        "id": "4nIAGOOqA4O7",
        "outputId": "b0d78bfb-a8a7-4b37-a427-c319f041aeab"
      },
      "execution_count": 72,
      "outputs": [
        {
          "name": "stdout",
          "output_type": "stream",
          "text": [
            "Ввидите фразу: Oh, no!!!\n"
          ]
        },
        {
          "output_type": "execute_result",
          "data": {
            "text/plain": [
              "'Oh, no'"
            ],
            "application/vnd.google.colaboratory.intrinsic+json": {
              "type": "string"
            }
          },
          "metadata": {},
          "execution_count": 72
        }
      ]
    },
    {
      "cell_type": "code",
      "source": [
        "# Задача 2.4.\n",
        "\n",
        "# Пункт B.\n",
        "# Удалите восклицательный знак из конца строки. \n",
        "# remove(\"Hi!\") == \"Hi\"\n",
        "# remove(\"Hi!!!\") == \"Hi!!\"\n",
        "# remove(\"!Hi\") == \"!Hi\"\n",
        "\n",
        "def remove_last_em(phrase):\n",
        "  return phrase.removesuffix('!')\n",
        "\n",
        "phrase = input('Ввидите фразу: ')\n",
        "remove_last_em(phrase)\n"
      ],
      "metadata": {
        "colab": {
          "base_uri": "https://localhost:8080/",
          "height": 53
        },
        "id": "szjmCtx8G58g",
        "outputId": "97f80621-c8b3-46e8-bd26-4b2978e0f4fe"
      },
      "execution_count": 75,
      "outputs": [
        {
          "name": "stdout",
          "output_type": "stream",
          "text": [
            "Ввидите фразу: !Hi\n"
          ]
        },
        {
          "output_type": "execute_result",
          "data": {
            "text/plain": [
              "'!Hi'"
            ],
            "application/vnd.google.colaboratory.intrinsic+json": {
              "type": "string"
            }
          },
          "metadata": {},
          "execution_count": 75
        }
      ]
    },
    {
      "cell_type": "code",
      "source": [
        "# Задача 2.4.\n",
        "\n",
        "# Пункт С.\n",
        "# Удалите слова из предложения, если они содержат ровно один восклицательный знак.\n",
        "# Слова разделены одним пробелом.\n",
        "# Например,\n",
        "# remove(\"Hi!\") === \"\"\n",
        "# remove(\"Hi! Hi!\") === \"\"\n",
        "# remove(\"Hi! Hi! Hi!\") === \"\"\n",
        "# remove(\"Hi Hi! Hi!\") === \"Hi\"\n",
        "# remove(\"Hi! !Hi Hi!\") === \"\"\n",
        "# remove(\"Hi! Hi!! Hi!\") === \"Hi!!\"\n",
        "# remove(\"Hi! !Hi! Hi!\") === \"!Hi!\"\n",
        "\n",
        "def remove_word_with_one_em(phrase):\n",
        "  inp = phrase.split(' ')\n",
        "  n = 0\n",
        "  res = ''\n",
        "  for i in inp:\n",
        "    cnt = i.count('!')\n",
        "    n = n+1\n",
        "    if cnt != 1:\n",
        "        res = res + i + ' '\n",
        "  return res\n",
        "\n",
        "phrase = input('Ввидите фразу: ')\n",
        "remove_word_with_one_em(phrase)"
      ],
      "metadata": {
        "id": "Yq0ih3jndE14",
        "colab": {
          "base_uri": "https://localhost:8080/",
          "height": 53
        },
        "outputId": "6529666e-2823-47df-c85e-92c41d4bef20"
      },
      "execution_count": 82,
      "outputs": [
        {
          "name": "stdout",
          "output_type": "stream",
          "text": [
            "Ввидите фразу: Hi! !Hi! Hi!\n"
          ]
        },
        {
          "output_type": "execute_result",
          "data": {
            "text/plain": [
              "'!Hi! '"
            ],
            "application/vnd.google.colaboratory.intrinsic+json": {
              "type": "string"
            }
          },
          "metadata": {},
          "execution_count": 82
        }
      ]
    }
  ]
}